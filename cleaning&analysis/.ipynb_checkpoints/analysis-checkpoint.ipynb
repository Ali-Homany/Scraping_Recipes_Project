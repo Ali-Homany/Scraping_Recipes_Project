{
 "cells": [
  {
   "cell_type": "markdown",
   "metadata": {},
   "source": [
    "# Data Analysis"
   ]
  },
  {
   "cell_type": "markdown",
   "metadata": {},
   "source": [
    "### read dataset"
   ]
  },
  {
   "cell_type": "code",
   "execution_count": 29,
   "metadata": {},
   "outputs": [],
   "source": [
    "import pandas as pd\n",
    "import matplotlib.pyplot as plt"
   ]
  },
  {
   "cell_type": "code",
   "execution_count": 30,
   "metadata": {},
   "outputs": [],
   "source": [
    "df_cleaning = pd.read_json('cleaned_data.json')"
   ]
  },
  {
   "cell_type": "markdown",
   "metadata": {},
   "source": [
    "### Favourite Cuisine"
   ]
  },
  {
   "cell_type": "code",
   "execution_count": 31,
   "metadata": {},
   "outputs": [
    {
     "name": "stdout",
     "output_type": "stream",
     "text": [
      "Favorite Cuisine: MEDITERRANEAN-INSPIRED\n",
      "Average Rating: 4.88\n"
     ]
    }
   ],
   "source": [
    "cuisine_ratings = df_cleaning.groupby('cuisine')['rating'].mean()\n",
    "\n",
    "# find the cuisine with the highest average rating\n",
    "favorite_cuisine = cuisine_ratings.idxmax()\n",
    "\n",
    "# get the highest average rating\n",
    "highest_rating = cuisine_ratings.max()\n",
    "\n",
    "print(\"Favorite Cuisine:\", favorite_cuisine)\n",
    "print(f\"Average Rating: {highest_rating:.2f}\")"
   ]
  },
  {
   "cell_type": "markdown",
   "metadata": {},
   "source": [
    "### Does number of steps affect the rating?"
   ]
  },
  {
   "cell_type": "code",
   "execution_count": 32,
   "metadata": {},
   "outputs": [
    {
     "data": {
      "text/plain": [
       "0.004752106779988934"
      ]
     },
     "execution_count": 32,
     "metadata": {},
     "output_type": "execute_result"
    }
   ],
   "source": [
    "\n",
    "df_cleaning['num_steps'] = df_cleaning['steps'].apply(lambda x: len(x))\n",
    "correlation = df_cleaning['num_steps'].corr(df_cleaning['rating'])\n",
    "correlation"
   ]
  },
  {
   "cell_type": "markdown",
   "metadata": {},
   "source": [
    "there is no correlation btw number of steps and rating. Therefore, the recipe complexity has nothing to do with rating, a delicious recipe is still delicious nevertherless how much time it needs!"
   ]
  },
  {
   "cell_type": "markdown",
   "metadata": {},
   "source": [
    "we can visualiza them below:"
   ]
  },
  {
   "cell_type": "code",
   "execution_count": 33,
   "metadata": {},
   "outputs": [
    {
     "data": {
      "image/png": "[encoded data removed]",
      "text/plain": [
       "<Figure size 640x480 with 1 Axes>"
      ]
     },
     "metadata": {},
     "output_type": "display_data"
    }
   ],
   "source": [
    "plt.scatter(df_cleaning['num_steps'], df_cleaning['rating'])\n",
    "plt.xlabel('num_steps')\n",
    "plt.ylabel('Rating')\n",
    "plt.title('num_steps vs. Rating')\n",
    "plt.show()"
   ]
  },
  {
   "cell_type": "code",
   "execution_count": 34,
   "metadata": {},
   "outputs": [
    {
     "name": "stdout",
     "output_type": "stream",
     "text": [
      "Most difficult cuisine is ITALIAN-INSPIRED with average of 4.45 steps\n"
     ]
    }
   ],
   "source": [
    "difficult_of_cuisine = df_cleaning.groupby('cuisine')['num_steps'].mean()\n",
    "most_difficult_cuisine = difficult_of_cuisine.idxmax()\n",
    "highest_difficult_avg = difficult_of_cuisine.max()\n",
    "print(f'Most difficult cuisine is {most_difficult_cuisine} with average of {highest_difficult_avg:.2f} steps')"
   ]
  },
  {
   "cell_type": "code",
   "execution_count": 35,
   "metadata": {},
   "outputs": [
    {
     "data": {
      "text/html": [
       "<div>\n",
       "<style scoped>\n",
       "    .dataframe tbody tr th:only-of-type {\n",
       "        vertical-align: middle;\n",
       "    }\n",
       "\n",
       "    .dataframe tbody tr th {\n",
       "        vertical-align: top;\n",
       "    }\n",
       "\n",
       "    .dataframe thead th {\n",
       "        text-align: right;\n",
       "    }\n",
       "</style>\n",
       "<table border=\"1\" class=\"dataframe\">\n",
       "  <thead>\n",
       "    <tr style=\"text-align: right;\">\n",
       "      <th></th>\n",
       "      <th>title</th>\n",
       "      <th>category</th>\n",
       "      <th>cuisine</th>\n",
       "      <th>total_time</th>\n",
       "      <th>nbr_of_ser</th>\n",
       "      <th>steps</th>\n",
       "      <th>rating</th>\n",
       "      <th>ingredients</th>\n",
       "      <th>image_link</th>\n",
       "      <th>num_steps</th>\n",
       "    </tr>\n",
       "  </thead>\n",
       "  <tbody>\n",
       "    <tr>\n",
       "      <th>0</th>\n",
       "      <td>Two Huge Chocolate Chip Cookies</td>\n",
       "      <td>Dessert</td>\n",
       "      <td>AMERICAN</td>\n",
       "      <td>15</td>\n",
       "      <td>2</td>\n",
       "      <td>[Preheat the oven to 350 degrees., Mix butter,...</td>\n",
       "      <td>5.0</td>\n",
       "      <td>[3 tablespoons butter , very soft or partially...</td>\n",
       "      <td>https://pinchofyum.com/wp-content/uploads/Two-...</td>\n",
       "      <td>6</td>\n",
       "    </tr>\n",
       "    <tr>\n",
       "      <th>1</th>\n",
       "      <td>Marry Me Chicken</td>\n",
       "      <td>Dinner</td>\n",
       "      <td>AMERICAN</td>\n",
       "      <td>40</td>\n",
       "      <td>4</td>\n",
       "      <td>[Sauce Base:Heat a large skillet over medium l...</td>\n",
       "      <td>4.6</td>\n",
       "      <td>[2 tablespoons butter, 3 cloves garlic , thinl...</td>\n",
       "      <td>https://pinchofyum.com/wp-content/uploads/Marr...</td>\n",
       "      <td>4</td>\n",
       "    </tr>\n",
       "    <tr>\n",
       "      <th>2</th>\n",
       "      <td>Ridiculously Good Air Fryer Tofu</td>\n",
       "      <td>Dinner</td>\n",
       "      <td>AMERICAN</td>\n",
       "      <td>20</td>\n",
       "      <td>3</td>\n",
       "      <td>[Mix The Batter:In a medium size mixing bowl, ...</td>\n",
       "      <td>4.9</td>\n",
       "      <td>[1 block extra firm tofu (look for one that is...</td>\n",
       "      <td>https://pinchofyum.com/wp-content/uploads/Cris...</td>\n",
       "      <td>4</td>\n",
       "    </tr>\n",
       "    <tr>\n",
       "      <th>3</th>\n",
       "      <td>Baked Tortellini with Sausage</td>\n",
       "      <td>Dinner</td>\n",
       "      <td>ITALIAN</td>\n",
       "      <td>40</td>\n",
       "      <td>6</td>\n",
       "      <td>[Brown the sausage:Heat a very large oven-safe...</td>\n",
       "      <td>5.0</td>\n",
       "      <td>[1 tablespoon avocado or olive oil, 1 lb . gro...</td>\n",
       "      <td>https://pinchofyum.com/wp-content/uploads/Bake...</td>\n",
       "      <td>5</td>\n",
       "    </tr>\n",
       "    <tr>\n",
       "      <th>4</th>\n",
       "      <td>Butter Cauliflower and Chickpeas with Mint Cil...</td>\n",
       "      <td>Dinner</td>\n",
       "      <td>INDIAN-INSPIRED</td>\n",
       "      <td>40</td>\n",
       "      <td>6</td>\n",
       "      <td>[Roast the cauliflower:Toss the cauliflower wi...</td>\n",
       "      <td>4.4</td>\n",
       "      <td>[1 – 2 tablespoons avocado oil, 1 head caulifl...</td>\n",
       "      <td>https://pinchofyum.com/wp-content/uploads/Butt...</td>\n",
       "      <td>4</td>\n",
       "    </tr>\n",
       "  </tbody>\n",
       "</table>\n",
       "</div>"
      ],
      "text/plain": [
       "                                               title category  \\\n",
       "0                    Two Huge Chocolate Chip Cookies  Dessert   \n",
       "1                                   Marry Me Chicken   Dinner   \n",
       "2                   Ridiculously Good Air Fryer Tofu   Dinner   \n",
       "3                      Baked Tortellini with Sausage   Dinner   \n",
       "4  Butter Cauliflower and Chickpeas with Mint Cil...   Dinner   \n",
       "\n",
       "           cuisine  total_time  nbr_of_ser  \\\n",
       "0         AMERICAN          15           2   \n",
       "1         AMERICAN          40           4   \n",
       "2         AMERICAN          20           3   \n",
       "3          ITALIAN          40           6   \n",
       "4  INDIAN-INSPIRED          40           6   \n",
       "\n",
       "                                               steps  rating  \\\n",
       "0  [Preheat the oven to 350 degrees., Mix butter,...     5.0   \n",
       "1  [Sauce Base:Heat a large skillet over medium l...     4.6   \n",
       "2  [Mix The Batter:In a medium size mixing bowl, ...     4.9   \n",
       "3  [Brown the sausage:Heat a very large oven-safe...     5.0   \n",
       "4  [Roast the cauliflower:Toss the cauliflower wi...     4.4   \n",
       "\n",
       "                                         ingredients  \\\n",
       "0  [3 tablespoons butter , very soft or partially...   \n",
       "1  [2 tablespoons butter, 3 cloves garlic , thinl...   \n",
       "2  [1 block extra firm tofu (look for one that is...   \n",
       "3  [1 tablespoon avocado or olive oil, 1 lb . gro...   \n",
       "4  [1 – 2 tablespoons avocado oil, 1 head caulifl...   \n",
       "\n",
       "                                          image_link  num_steps  \n",
       "0  https://pinchofyum.com/wp-content/uploads/Two-...          6  \n",
       "1  https://pinchofyum.com/wp-content/uploads/Marr...          4  \n",
       "2  https://pinchofyum.com/wp-content/uploads/Cris...          4  \n",
       "3  https://pinchofyum.com/wp-content/uploads/Bake...          5  \n",
       "4  https://pinchofyum.com/wp-content/uploads/Butt...          4  "
      ]
     },
     "execution_count": 35,
     "metadata": {},
     "output_type": "execute_result"
    }
   ],
   "source": [
    "df_cleaning.head()"
   ]
  },
  {
   "cell_type": "code",
   "execution_count": 37,
   "metadata": {},
   "outputs": [
    {
     "name": "stdout",
     "output_type": "stream",
     "text": [
      "Fastest Recipe: 3 minutes\n",
      "Longest Recipe: 1120 minutes\n"
     ]
    }
   ],
   "source": [
    "largest_total_time = df_cleaning['total_time'].max()\n",
    "lowest_total_time = df_cleaning['total_time'].min()\n",
    "print(f'Fastest Recipe: {lowest_total_time} minutes\\nLongest Recipe: {largest_total_time} minutes')"
   ]
  }
 ],
 "metadata": {
  "kernelspec": {
   "display_name": "Python 3 (ipykernel)",
   "language": "python",
   "name": "python3"
  },
  "language_info": {
   "codemirror_mode": {
    "name": "ipython",
    "version": 3
   },
   "file_extension": ".py",
   "mimetype": "text/x-python",
   "name": "python",
   "nbconvert_exporter": "python",
   "pygments_lexer": "ipython3",
   "version": "3.10.9"
  }
 },
 "nbformat": 4,
 "nbformat_minor": 2
}
