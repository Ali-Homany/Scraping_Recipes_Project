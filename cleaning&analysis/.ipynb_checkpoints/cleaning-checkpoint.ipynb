{
 "cells": [
  {
   "cell_type": "markdown",
   "metadata": {},
   "source": [
    "# Data Cleaning"
   ]
  },
  {
   "cell_type": "markdown",
   "metadata": {},
   "source": [
    "### read dataset & rename columns"
   ]
  },
  {
   "cell_type": "code",
   "execution_count": 10,
   "metadata": {},
   "outputs": [],
   "source": [
    "import pandas as pd"
   ]
  },
  {
   "cell_type": "code",
   "execution_count": 11,
   "metadata": {},
   "outputs": [
    {
     "data": {
      "text/html": [
       "<div>\n",
       "<style scoped>\n",
       "    .dataframe tbody tr th:only-of-type {\n",
       "        vertical-align: middle;\n",
       "    }\n",
       "\n",
       "    .dataframe tbody tr th {\n",
       "        vertical-align: top;\n",
       "    }\n",
       "\n",
       "    .dataframe thead th {\n",
       "        text-align: right;\n",
       "    }\n",
       "</style>\n",
       "<table border=\"1\" class=\"dataframe\">\n",
       "  <thead>\n",
       "    <tr style=\"text-align: right;\">\n",
       "      <th></th>\n",
       "      <th>title</th>\n",
       "      <th>category</th>\n",
       "      <th>cuisine</th>\n",
       "      <th>total_time</th>\n",
       "      <th>nbr_of_ser</th>\n",
       "      <th>steps</th>\n",
       "      <th>rating</th>\n",
       "      <th>ingredients</th>\n",
       "      <th>image_link</th>\n",
       "    </tr>\n",
       "  </thead>\n",
       "  <tbody>\n",
       "    <tr>\n",
       "      <th>0</th>\n",
       "      <td>Two Huge Chocolate Chip Cookies</td>\n",
       "      <td>Dessert</td>\n",
       "      <td>American</td>\n",
       "      <td>15 minutes</td>\n",
       "      <td>2</td>\n",
       "      <td>[Preheat the oven to 350 degrees., Mix butter,...</td>\n",
       "      <td>5.0</td>\n",
       "      <td>[3 tablespoons butter , very soft or partially...</td>\n",
       "      <td>https://pinchofyum.com/wp-content/uploads/Two-...</td>\n",
       "    </tr>\n",
       "    <tr>\n",
       "      <th>1</th>\n",
       "      <td>Marry Me Chicken</td>\n",
       "      <td>Dinner</td>\n",
       "      <td>American</td>\n",
       "      <td>40 minutes</td>\n",
       "      <td>4</td>\n",
       "      <td>[Sauce Base:Heat a large skillet over medium l...</td>\n",
       "      <td>4.6</td>\n",
       "      <td>[2 tablespoons butter, 3 cloves garlic , thinl...</td>\n",
       "      <td>https://pinchofyum.com/wp-content/uploads/Marr...</td>\n",
       "    </tr>\n",
       "    <tr>\n",
       "      <th>2</th>\n",
       "      <td>Ridiculously Good Air Fryer Tofu</td>\n",
       "      <td>Dinner</td>\n",
       "      <td>American</td>\n",
       "      <td>20 minutes</td>\n",
       "      <td>3</td>\n",
       "      <td>[Mix The Batter:In a medium size mixing bowl, ...</td>\n",
       "      <td>4.9</td>\n",
       "      <td>[1 block extra firm tofu (look for one that is...</td>\n",
       "      <td>https://pinchofyum.com/wp-content/uploads/Cris...</td>\n",
       "    </tr>\n",
       "    <tr>\n",
       "      <th>3</th>\n",
       "      <td>Baked Tortellini with Sausage</td>\n",
       "      <td>Dinner</td>\n",
       "      <td>Italian</td>\n",
       "      <td>40 minutes</td>\n",
       "      <td>6</td>\n",
       "      <td>[Brown the sausage:Heat a very large oven-safe...</td>\n",
       "      <td>5.0</td>\n",
       "      <td>[1 tablespoon avocado or olive oil, 1 lb . gro...</td>\n",
       "      <td>https://pinchofyum.com/wp-content/uploads/Bake...</td>\n",
       "    </tr>\n",
       "    <tr>\n",
       "      <th>4</th>\n",
       "      <td>Butter Cauliflower and Chickpeas with Mint Cil...</td>\n",
       "      <td>Dinner</td>\n",
       "      <td>Indian-Inspired</td>\n",
       "      <td>40 minutes</td>\n",
       "      <td>6</td>\n",
       "      <td>[Roast the cauliflower:Toss the cauliflower wi...</td>\n",
       "      <td>4.4</td>\n",
       "      <td>[1 – 2 tablespoons avocado oil, 1 head caulifl...</td>\n",
       "      <td>https://pinchofyum.com/wp-content/uploads/Butt...</td>\n",
       "    </tr>\n",
       "  </tbody>\n",
       "</table>\n",
       "</div>"
      ],
      "text/plain": [
       "                                               title category  \\\n",
       "0                    Two Huge Chocolate Chip Cookies  Dessert   \n",
       "1                                   Marry Me Chicken   Dinner   \n",
       "2                   Ridiculously Good Air Fryer Tofu   Dinner   \n",
       "3                      Baked Tortellini with Sausage   Dinner   \n",
       "4  Butter Cauliflower and Chickpeas with Mint Cil...   Dinner   \n",
       "\n",
       "           cuisine  total_time nbr_of_ser  \\\n",
       "0         American  15 minutes          2   \n",
       "1         American  40 minutes          4   \n",
       "2         American  20 minutes          3   \n",
       "3          Italian  40 minutes          6   \n",
       "4  Indian-Inspired  40 minutes          6   \n",
       "\n",
       "                                               steps  rating  \\\n",
       "0  [Preheat the oven to 350 degrees., Mix butter,...     5.0   \n",
       "1  [Sauce Base:Heat a large skillet over medium l...     4.6   \n",
       "2  [Mix The Batter:In a medium size mixing bowl, ...     4.9   \n",
       "3  [Brown the sausage:Heat a very large oven-safe...     5.0   \n",
       "4  [Roast the cauliflower:Toss the cauliflower wi...     4.4   \n",
       "\n",
       "                                         ingredients  \\\n",
       "0  [3 tablespoons butter , very soft or partially...   \n",
       "1  [2 tablespoons butter, 3 cloves garlic , thinl...   \n",
       "2  [1 block extra firm tofu (look for one that is...   \n",
       "3  [1 tablespoon avocado or olive oil, 1 lb . gro...   \n",
       "4  [1 – 2 tablespoons avocado oil, 1 head caulifl...   \n",
       "\n",
       "                                          image_link  \n",
       "0  https://pinchofyum.com/wp-content/uploads/Two-...  \n",
       "1  https://pinchofyum.com/wp-content/uploads/Marr...  \n",
       "2  https://pinchofyum.com/wp-content/uploads/Cris...  \n",
       "3  https://pinchofyum.com/wp-content/uploads/Bake...  \n",
       "4  https://pinchofyum.com/wp-content/uploads/Butt...  "
      ]
     },
     "execution_count": 11,
     "metadata": {},
     "output_type": "execute_result"
    }
   ],
   "source": [
    "df = pd.read_json('../data.json')\n",
    "df.rename(columns={0: 'title', 1: 'category', 2:'cuisine', 3:'total_time', 4:'nbr_of_ser', 5:'steps', 6:'rating', 7:'ingredients', 8:'image_link'}, inplace=True)\n",
    "df.head()\n"
   ]
  },
  {
   "cell_type": "markdown",
   "metadata": {},
   "source": [
    "### cast number of servings column to int"
   ]
  },
  {
   "cell_type": "code",
   "execution_count": 12,
   "metadata": {},
   "outputs": [
    {
     "data": {
      "text/plain": [
       "dtype('int32')"
      ]
     },
     "execution_count": 12,
     "metadata": {},
     "output_type": "execute_result"
    }
   ],
   "source": [
    "df['nbr_of_ser'] = df['nbr_of_ser'].fillna(0)\n",
    "numeric_column = pd.to_numeric(df['nbr_of_ser'], errors='coerce')\n",
    "non_numeric_values = df[numeric_column.isna()]\n",
    "\n",
    "# filter out rows with non-numeric values\n",
    "df_filtered = df.drop(numeric_column[numeric_column.isna()].index)\n",
    "\n",
    "# print the DataFrame after dropping rows with non-numeric values\n",
    "df_filtered['nbr_of_ser'] = df_filtered['nbr_of_ser'].astype(int)\n",
    "df_filtered['nbr_of_ser'].dtype"
   ]
  },
  {
   "cell_type": "markdown",
   "metadata": {},
   "source": [
    "### remove cuisines duplicates"
   ]
  },
  {
   "cell_type": "code",
   "execution_count": 13,
   "metadata": {},
   "outputs": [
    {
     "data": {
      "text/plain": [
       "51"
      ]
     },
     "execution_count": 13,
     "metadata": {},
     "output_type": "execute_result"
    }
   ],
   "source": [
    "df_filtered['cuisine'] = df['cuisine'].str.upper()\n",
    "unique_values = df_filtered['cuisine'].unique()\n",
    "len(unique_values)"
   ]
  },
  {
   "cell_type": "markdown",
   "metadata": {},
   "source": [
    "### cast total_time column to integer"
   ]
  },
  {
   "cell_type": "code",
   "execution_count": 14,
   "metadata": {},
   "outputs": [],
   "source": [
    "def change_dur_to_int(duration):\n",
    "    # check if duration is already integer\n",
    "    if isinstance(duration, int):\n",
    "        return duration\n",
    "    \n",
    "    # split the string into components based on whitespace\n",
    "    components = duration.split()\n",
    "\n",
    "    # initialize variables to store hours and minutes\n",
    "    hours = 0\n",
    "    minutes = 0\n",
    "\n",
    "    # extract hours and minutes from components\n",
    "    for i in range(len(components)):\n",
    "        # check for hours or hour\n",
    "        if components[i] == 'hours' or components[i] == 'hour':\n",
    "            hours = int(components[i - 1])\n",
    "        # check for minutes or minute or mins\n",
    "        elif components[i] == 'minutes' or components[i] == 'minute' or components[i] == 'mins' :\n",
    "            minutes = int(components[i - 1])\n",
    "\n",
    "    total_minutes = hours * 60 + minutes\n",
    "    return total_minutes\n",
    "\n",
    "df_filtered['total_time'] = df_filtered['total_time'].apply(change_dur_to_int)"
   ]
  },
  {
   "cell_type": "markdown",
   "metadata": {},
   "source": [
    "### replace rating null values with average rating"
   ]
  },
  {
   "cell_type": "code",
   "execution_count": 15,
   "metadata": {},
   "outputs": [],
   "source": [
    "# Calculate the average rating excluding NaN values\n",
    "average_rating = df_filtered['rating'].mean()\n",
    "\n",
    "# Replace NaN values in 'rating' column with the average rating\n",
    "df_filtered['rating'] = df_filtered['rating'].fillna(average_rating)\n",
    "df_filtered.reset_index(drop=True, inplace=True)"
   ]
  },
  {
   "cell_type": "markdown",
   "metadata": {},
   "source": [
    "### drop all categories that do not have more than 5 recipes"
   ]
  },
  {
   "cell_type": "code",
   "execution_count": 16,
   "metadata": {},
   "outputs": [],
   "source": [
    "title_counts = df_filtered.groupby('category')['title'].count()\n",
    "categories_to_drop = title_counts[title_counts < 5].index\n",
    "df_filtered = df_filtered[~df_filtered['category'].isin(categories_to_drop)]\n",
    "df_filtered.reset_index(drop=True, inplace=True)"
   ]
  },
  {
   "cell_type": "markdown",
   "metadata": {},
   "source": [
    "### drop all cuisines that do not have more than 5 recipes"
   ]
  },
  {
   "cell_type": "code",
   "execution_count": 17,
   "metadata": {},
   "outputs": [
    {
     "data": {
      "text/html": [
       "<div>\n",
       "<style scoped>\n",
       "    .dataframe tbody tr th:only-of-type {\n",
       "        vertical-align: middle;\n",
       "    }\n",
       "\n",
       "    .dataframe tbody tr th {\n",
       "        vertical-align: top;\n",
       "    }\n",
       "\n",
       "    .dataframe thead th {\n",
       "        text-align: right;\n",
       "    }\n",
       "</style>\n",
       "<table border=\"1\" class=\"dataframe\">\n",
       "  <thead>\n",
       "    <tr style=\"text-align: right;\">\n",
       "      <th></th>\n",
       "      <th>title</th>\n",
       "      <th>category</th>\n",
       "      <th>cuisine</th>\n",
       "      <th>total_time</th>\n",
       "      <th>nbr_of_ser</th>\n",
       "      <th>steps</th>\n",
       "      <th>rating</th>\n",
       "      <th>ingredients</th>\n",
       "      <th>image_link</th>\n",
       "    </tr>\n",
       "  </thead>\n",
       "  <tbody>\n",
       "    <tr>\n",
       "      <th>0</th>\n",
       "      <td>Two Huge Chocolate Chip Cookies</td>\n",
       "      <td>Dessert</td>\n",
       "      <td>AMERICAN</td>\n",
       "      <td>15</td>\n",
       "      <td>2</td>\n",
       "      <td>[Preheat the oven to 350 degrees., Mix butter,...</td>\n",
       "      <td>5.0</td>\n",
       "      <td>[3 tablespoons butter , very soft or partially...</td>\n",
       "      <td>https://pinchofyum.com/wp-content/uploads/Two-...</td>\n",
       "    </tr>\n",
       "    <tr>\n",
       "      <th>1</th>\n",
       "      <td>Marry Me Chicken</td>\n",
       "      <td>Dinner</td>\n",
       "      <td>AMERICAN</td>\n",
       "      <td>40</td>\n",
       "      <td>4</td>\n",
       "      <td>[Sauce Base:Heat a large skillet over medium l...</td>\n",
       "      <td>4.6</td>\n",
       "      <td>[2 tablespoons butter, 3 cloves garlic , thinl...</td>\n",
       "      <td>https://pinchofyum.com/wp-content/uploads/Marr...</td>\n",
       "    </tr>\n",
       "    <tr>\n",
       "      <th>2</th>\n",
       "      <td>Ridiculously Good Air Fryer Tofu</td>\n",
       "      <td>Dinner</td>\n",
       "      <td>AMERICAN</td>\n",
       "      <td>20</td>\n",
       "      <td>3</td>\n",
       "      <td>[Mix The Batter:In a medium size mixing bowl, ...</td>\n",
       "      <td>4.9</td>\n",
       "      <td>[1 block extra firm tofu (look for one that is...</td>\n",
       "      <td>https://pinchofyum.com/wp-content/uploads/Cris...</td>\n",
       "    </tr>\n",
       "    <tr>\n",
       "      <th>3</th>\n",
       "      <td>Baked Tortellini with Sausage</td>\n",
       "      <td>Dinner</td>\n",
       "      <td>ITALIAN</td>\n",
       "      <td>40</td>\n",
       "      <td>6</td>\n",
       "      <td>[Brown the sausage:Heat a very large oven-safe...</td>\n",
       "      <td>5.0</td>\n",
       "      <td>[1 tablespoon avocado or olive oil, 1 lb . gro...</td>\n",
       "      <td>https://pinchofyum.com/wp-content/uploads/Bake...</td>\n",
       "    </tr>\n",
       "    <tr>\n",
       "      <th>4</th>\n",
       "      <td>Butter Cauliflower and Chickpeas with Mint Cil...</td>\n",
       "      <td>Dinner</td>\n",
       "      <td>INDIAN-INSPIRED</td>\n",
       "      <td>40</td>\n",
       "      <td>6</td>\n",
       "      <td>[Roast the cauliflower:Toss the cauliflower wi...</td>\n",
       "      <td>4.4</td>\n",
       "      <td>[1 – 2 tablespoons avocado oil, 1 head caulifl...</td>\n",
       "      <td>https://pinchofyum.com/wp-content/uploads/Butt...</td>\n",
       "    </tr>\n",
       "  </tbody>\n",
       "</table>\n",
       "</div>"
      ],
      "text/plain": [
       "                                               title category  \\\n",
       "0                    Two Huge Chocolate Chip Cookies  Dessert   \n",
       "1                                   Marry Me Chicken   Dinner   \n",
       "2                   Ridiculously Good Air Fryer Tofu   Dinner   \n",
       "3                      Baked Tortellini with Sausage   Dinner   \n",
       "4  Butter Cauliflower and Chickpeas with Mint Cil...   Dinner   \n",
       "\n",
       "           cuisine  total_time  nbr_of_ser  \\\n",
       "0         AMERICAN          15           2   \n",
       "1         AMERICAN          40           4   \n",
       "2         AMERICAN          20           3   \n",
       "3          ITALIAN          40           6   \n",
       "4  INDIAN-INSPIRED          40           6   \n",
       "\n",
       "                                               steps  rating  \\\n",
       "0  [Preheat the oven to 350 degrees., Mix butter,...     5.0   \n",
       "1  [Sauce Base:Heat a large skillet over medium l...     4.6   \n",
       "2  [Mix The Batter:In a medium size mixing bowl, ...     4.9   \n",
       "3  [Brown the sausage:Heat a very large oven-safe...     5.0   \n",
       "4  [Roast the cauliflower:Toss the cauliflower wi...     4.4   \n",
       "\n",
       "                                         ingredients  \\\n",
       "0  [3 tablespoons butter , very soft or partially...   \n",
       "1  [2 tablespoons butter, 3 cloves garlic , thinl...   \n",
       "2  [1 block extra firm tofu (look for one that is...   \n",
       "3  [1 tablespoon avocado or olive oil, 1 lb . gro...   \n",
       "4  [1 – 2 tablespoons avocado oil, 1 head caulifl...   \n",
       "\n",
       "                                          image_link  \n",
       "0  https://pinchofyum.com/wp-content/uploads/Two-...  \n",
       "1  https://pinchofyum.com/wp-content/uploads/Marr...  \n",
       "2  https://pinchofyum.com/wp-content/uploads/Cris...  \n",
       "3  https://pinchofyum.com/wp-content/uploads/Bake...  \n",
       "4  https://pinchofyum.com/wp-content/uploads/Butt...  "
      ]
     },
     "execution_count": 17,
     "metadata": {},
     "output_type": "execute_result"
    }
   ],
   "source": [
    "title_counts = df_filtered.groupby('cuisine')['title'].count()\n",
    "cuisines_to_drop = title_counts[title_counts < 5].index\n",
    "df_filtered = df_filtered[~df_filtered['cuisine'].isin(cuisines_to_drop)]\n",
    "df_filtered.reset_index(drop=True, inplace=True)\n",
    "df_filtered = df_filtered.drop(index=101)\n",
    "df_filtered.head()"
   ]
  },
  {
   "cell_type": "code",
   "execution_count": 19,
   "metadata": {},
   "outputs": [],
   "source": [
    "df_filtered = df_filtered[df_filtered['total_time'] > 0]"
   ]
  },
  {
   "cell_type": "code",
   "execution_count": 20,
   "metadata": {},
   "outputs": [],
   "source": [
    "df_filtered.to_json('cleaned_data.json', orient='records')"
   ]
  }
 ],
 "metadata": {
  "kernelspec": {
   "display_name": "Python 3 (ipykernel)",
   "language": "python",
   "name": "python3"
  },
  "language_info": {
   "codemirror_mode": {
    "name": "ipython",
    "version": 3
   },
   "file_extension": ".py",
   "mimetype": "text/x-python",
   "name": "python",
   "nbconvert_exporter": "python",
   "pygments_lexer": "ipython3",
   "version": "3.10.9"
  }
 },
 "nbformat": 4,
 "nbformat_minor": 2
}
